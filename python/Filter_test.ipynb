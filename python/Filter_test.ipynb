{
 "cells": [
  {
   "cell_type": "code",
   "execution_count": 1,
   "id": "b4ea1a04",
   "metadata": {},
   "outputs": [],
   "source": [
    "import pandas as pd\n",
    "import matplotlib.pyplot as plt\n",
    "import numpy as np\n",
    "import ipywidgets as widgets\n",
    "from IPython.display import display"
   ]
  },
  {
   "cell_type": "code",
   "execution_count": 2,
   "id": "180e333a",
   "metadata": {},
   "outputs": [],
   "source": [
    "# 读取 CSV 数据\n",
    "df = pd.read_csv(\"uart_ready_output.csv\")\n",
    "df.columns = ['time', 'value']"
   ]
  },
  {
   "cell_type": "code",
   "execution_count": null,
   "id": "74fa88ef",
   "metadata": {},
   "outputs": [
    {
     "data": {
      "application/vnd.jupyter.widget-view+json": {
       "model_id": "2eb28c86746b49fc8083bf50c8eaa629",
       "version_major": 2,
       "version_minor": 0
      },
      "text/plain": [
       "HBox(children=(IntSlider(value=5, description='MA Window', max=501, min=1, step=2), IntSlider(value=7, descrip…"
      ]
     },
     "metadata": {},
     "output_type": "display_data"
    },
    {
     "data": {
      "application/vnd.jupyter.widget-view+json": {
       "model_id": "bb3fed6a3b124fceb6df914b6b4abb61",
       "version_major": 2,
       "version_minor": 0
      },
      "text/plain": [
       "Output()"
      ]
     },
     "metadata": {},
     "output_type": "display_data"
    }
   ],
   "source": [
    "# ✅ 自定义 FIR 低通滤波器权重（简化为 box filter）\n",
    "def custom_fir_filter(signal, fir_window):\n",
    "    # Hamming Window Kernel\n",
    "    # === FPGA FIR 系数 ===\n",
    "    fpga_kernel = np.array([\n",
    "        1, 2, 3, 5, 8, 12, 17, 22, 26, 29,\n",
    "        29, 26, 22, 17, 12, 8, 5, 3, 2, 1\n",
    "    ])\n",
    "    fpga_kernel = fpga_kernel / np.sum(fpga_kernel)  # 归一化处理\n",
    "\n",
    "    filtered = np.convolve(signal, fpga_kernel, mode='same')  # 保持 same 长度\n",
    "    return filtered\n",
    "\n",
    "# ✅ 主函数：带独立 MA 和 FIR 窗口大小\n",
    "def apply_filters(ma_window, fir_window):\n",
    "    time = df['time'].values\n",
    "    signal = df['value'].values\n",
    "    time = np.arange(len(signal))  # fallback index\n",
    "\n",
    "    # 移动平均\n",
    "    ma_filtered = pd.Series(signal).rolling(window=ma_window, min_periods=1, center=True).mean()\n",
    "\n",
    "    # 自定义 FIR 卷积\n",
    "    fir_filtered = custom_fir_filter(signal, fir_window)\n",
    "\n",
    "    # 📊 创建 2 个 subplot\n",
    "    fig, axs = plt.subplots(2, 1, figsize=(12, 6), sharex=True)\n",
    "    \n",
    "    axs[0].plot(time, signal, label='Original', color='gray', linewidth=1)\n",
    "    axs[0].plot(time, ma_filtered, label=f'MA (window={ma_window})', color='orange', linewidth=1)\n",
    "    axs[0].set_ylabel(\"MA Filter\")\n",
    "    axs[0].legend()\n",
    "    axs[0].grid(True)\n",
    "\n",
    "    axs[1].plot(time, signal, label='Original', color='gray', linewidth=1)\n",
    "\n",
    "    axs[1].plot(time, fir_filtered, label=f'FIR (window={fir_window})', color='green', linewidth=1)\n",
    "    axs[1].set_ylabel(\"FIR Filter\")\n",
    "    axs[1].set_xlabel(\"Time\")\n",
    "    axs[1].legend()\n",
    "    axs[1].grid(True)\n",
    "\n",
    "    fig.suptitle(\"MA vs FIR (Custom) Filter Comparison\", fontsize=14)\n",
    "    plt.tight_layout()\n",
    "    plt.show()\n",
    "\n",
    "# ✅ 两个独立滑条\n",
    "ma_slider = widgets.IntSlider(value=5, min=1, max=501, step=2, description='MA Window')\n",
    "fir_slider = widgets.IntSlider(value=7, min=1, max=501, step=2, description='FIR Window')\n",
    "\n",
    "# 控件 + 显示\n",
    "ui = widgets.HBox([ma_slider, fir_slider])\n",
    "out = widgets.interactive_output(apply_filters, {'ma_window': ma_slider, 'fir_window': fir_slider})\n",
    "display(ui, out)"
   ]
  },
  {
   "cell_type": "code",
   "execution_count": null,
   "id": "c66b673b",
   "metadata": {},
   "outputs": [],
   "source": []
  },
  {
   "cell_type": "code",
   "execution_count": null,
   "id": "3abf2074",
   "metadata": {},
   "outputs": [],
   "source": []
  }
 ],
 "metadata": {
  "kernelspec": {
   "display_name": "Python 3",
   "language": "python",
   "name": "python3"
  },
  "language_info": {
   "codemirror_mode": {
    "name": "ipython",
    "version": 3
   },
   "file_extension": ".py",
   "mimetype": "text/x-python",
   "name": "python",
   "nbconvert_exporter": "python",
   "pygments_lexer": "ipython3",
   "version": "3.10.11"
  }
 },
 "nbformat": 4,
 "nbformat_minor": 5
}
